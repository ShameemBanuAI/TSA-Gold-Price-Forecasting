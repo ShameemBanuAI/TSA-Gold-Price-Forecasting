{
 "cells": [
  {
   "cell_type": "markdown",
   "id": "e594ad01-8bca-4027-990a-aba4df6f059f",
   "metadata": {},
   "source": [
    "# Importing necessary libraries"
   ]
  },
  {
   "cell_type": "code",
   "execution_count": 1,
   "id": "dbce2a6c-0a08-49bd-bf8e-85dc9c5a5546",
   "metadata": {},
   "outputs": [],
   "source": [
    "import pandas as pd\n",
    "from sklearn.preprocessing import MinMaxScaler\n",
    "from sklearn.metrics import mean_squared_error\n",
    "from statsmodels.tsa.arima.model import ARIMA\n",
    "import matplotlib.pyplot as plt"
   ]
  },
  {
   "cell_type": "code",
   "execution_count": 2,
   "id": "a5986046-4d17-4b22-bbe2-37ae2d1e3c1b",
   "metadata": {},
   "outputs": [],
   "source": [
    "dataset=pd.read_csv(\"Gold Price.csv\",parse_dates=[\"Date\"],index_col=[\"Date\"])"
   ]
  },
  {
   "cell_type": "markdown",
   "id": "6fafdee4-0427-472e-aa06-36ee8e006389",
   "metadata": {},
   "source": [
    "# Data Collection"
   ]
  },
  {
   "cell_type": "code",
   "execution_count": 3,
   "id": "322a86d2-4b82-47e4-810e-cc49030d3074",
   "metadata": {},
   "outputs": [
    {
     "data": {
      "text/html": [
       "<div>\n",
       "<style scoped>\n",
       "    .dataframe tbody tr th:only-of-type {\n",
       "        vertical-align: middle;\n",
       "    }\n",
       "\n",
       "    .dataframe tbody tr th {\n",
       "        vertical-align: top;\n",
       "    }\n",
       "\n",
       "    .dataframe thead th {\n",
       "        text-align: right;\n",
       "    }\n",
       "</style>\n",
       "<table border=\"1\" class=\"dataframe\">\n",
       "  <thead>\n",
       "    <tr style=\"text-align: right;\">\n",
       "      <th></th>\n",
       "      <th>Open</th>\n",
       "      <th>High</th>\n",
       "      <th>Low</th>\n",
       "      <th>Close</th>\n",
       "      <th>WAP</th>\n",
       "      <th>No. of Shares</th>\n",
       "      <th>No. of Trades</th>\n",
       "      <th>Total Turnover</th>\n",
       "      <th>Deliverable Quantity</th>\n",
       "      <th>% Deli. Qty to Traded Qty</th>\n",
       "      <th>Spread H-L</th>\n",
       "      <th>Spread C-O</th>\n",
       "    </tr>\n",
       "    <tr>\n",
       "      <th>Date</th>\n",
       "      <th></th>\n",
       "      <th></th>\n",
       "      <th></th>\n",
       "      <th></th>\n",
       "      <th></th>\n",
       "      <th></th>\n",
       "      <th></th>\n",
       "      <th></th>\n",
       "      <th></th>\n",
       "      <th></th>\n",
       "      <th></th>\n",
       "      <th></th>\n",
       "    </tr>\n",
       "  </thead>\n",
       "  <tbody>\n",
       "    <tr>\n",
       "      <th>2017-02-06</th>\n",
       "      <td>0.79</td>\n",
       "      <td>0.79</td>\n",
       "      <td>0.76</td>\n",
       "      <td>0.76</td>\n",
       "      <td>0.790000</td>\n",
       "      <td>7430.0</td>\n",
       "      <td>7.0</td>\n",
       "      <td>5848.0</td>\n",
       "      <td>7430.0</td>\n",
       "      <td>100.00</td>\n",
       "      <td>0.03</td>\n",
       "      <td>-0.03</td>\n",
       "    </tr>\n",
       "    <tr>\n",
       "      <th>2017-02-03</th>\n",
       "      <td>0.79</td>\n",
       "      <td>0.79</td>\n",
       "      <td>0.79</td>\n",
       "      <td>0.79</td>\n",
       "      <td>0.790000</td>\n",
       "      <td>310.0</td>\n",
       "      <td>4.0</td>\n",
       "      <td>244.0</td>\n",
       "      <td>310.0</td>\n",
       "      <td>100.00</td>\n",
       "      <td>0.00</td>\n",
       "      <td>0.00</td>\n",
       "    </tr>\n",
       "    <tr>\n",
       "      <th>2017-02-02</th>\n",
       "      <td>0.83</td>\n",
       "      <td>0.83</td>\n",
       "      <td>0.83</td>\n",
       "      <td>0.83</td>\n",
       "      <td>0.830000</td>\n",
       "      <td>75.0</td>\n",
       "      <td>1.0</td>\n",
       "      <td>62.0</td>\n",
       "      <td>75.0</td>\n",
       "      <td>100.00</td>\n",
       "      <td>0.00</td>\n",
       "      <td>0.00</td>\n",
       "    </tr>\n",
       "    <tr>\n",
       "      <th>2017-01-31</th>\n",
       "      <td>0.87</td>\n",
       "      <td>0.87</td>\n",
       "      <td>0.87</td>\n",
       "      <td>0.87</td>\n",
       "      <td>0.870000</td>\n",
       "      <td>1050.0</td>\n",
       "      <td>2.0</td>\n",
       "      <td>913.0</td>\n",
       "      <td>1050.0</td>\n",
       "      <td>100.00</td>\n",
       "      <td>0.00</td>\n",
       "      <td>0.00</td>\n",
       "    </tr>\n",
       "    <tr>\n",
       "      <th>2017-01-25</th>\n",
       "      <td>0.91</td>\n",
       "      <td>0.91</td>\n",
       "      <td>0.91</td>\n",
       "      <td>0.91</td>\n",
       "      <td>0.910000</td>\n",
       "      <td>400.0</td>\n",
       "      <td>1.0</td>\n",
       "      <td>364.0</td>\n",
       "      <td>400.0</td>\n",
       "      <td>100.00</td>\n",
       "      <td>0.00</td>\n",
       "      <td>0.00</td>\n",
       "    </tr>\n",
       "    <tr>\n",
       "      <th>...</th>\n",
       "      <td>...</td>\n",
       "      <td>...</td>\n",
       "      <td>...</td>\n",
       "      <td>...</td>\n",
       "      <td>...</td>\n",
       "      <td>...</td>\n",
       "      <td>...</td>\n",
       "      <td>...</td>\n",
       "      <td>...</td>\n",
       "      <td>...</td>\n",
       "      <td>...</td>\n",
       "      <td>...</td>\n",
       "    </tr>\n",
       "    <tr>\n",
       "      <th>2009-12-07</th>\n",
       "      <td>65.55</td>\n",
       "      <td>71.00</td>\n",
       "      <td>57.60</td>\n",
       "      <td>65.25</td>\n",
       "      <td>64.071524</td>\n",
       "      <td>42741.0</td>\n",
       "      <td>286.0</td>\n",
       "      <td>2738481.0</td>\n",
       "      <td>14444.0</td>\n",
       "      <td>33.79</td>\n",
       "      <td>13.40</td>\n",
       "      <td>-0.30</td>\n",
       "    </tr>\n",
       "    <tr>\n",
       "      <th>2009-12-04</th>\n",
       "      <td>84.95</td>\n",
       "      <td>84.95</td>\n",
       "      <td>66.30</td>\n",
       "      <td>71.95</td>\n",
       "      <td>73.919145</td>\n",
       "      <td>133820.0</td>\n",
       "      <td>430.0</td>\n",
       "      <td>9891860.0</td>\n",
       "      <td>82395.0</td>\n",
       "      <td>61.57</td>\n",
       "      <td>18.65</td>\n",
       "      <td>-13.00</td>\n",
       "    </tr>\n",
       "    <tr>\n",
       "      <th>2009-12-03</th>\n",
       "      <td>72.00</td>\n",
       "      <td>72.00</td>\n",
       "      <td>65.20</td>\n",
       "      <td>70.80</td>\n",
       "      <td>71.469977</td>\n",
       "      <td>84551.0</td>\n",
       "      <td>368.0</td>\n",
       "      <td>6042858.0</td>\n",
       "      <td>61676.0</td>\n",
       "      <td>72.95</td>\n",
       "      <td>6.80</td>\n",
       "      <td>-1.20</td>\n",
       "    </tr>\n",
       "    <tr>\n",
       "      <th>2009-12-02</th>\n",
       "      <td>60.00</td>\n",
       "      <td>60.00</td>\n",
       "      <td>60.00</td>\n",
       "      <td>60.00</td>\n",
       "      <td>60.000000</td>\n",
       "      <td>250.0</td>\n",
       "      <td>3.0</td>\n",
       "      <td>15000.0</td>\n",
       "      <td>250.0</td>\n",
       "      <td>100.00</td>\n",
       "      <td>0.00</td>\n",
       "      <td>0.00</td>\n",
       "    </tr>\n",
       "    <tr>\n",
       "      <th>2009-12-01</th>\n",
       "      <td>36.00</td>\n",
       "      <td>50.00</td>\n",
       "      <td>36.00</td>\n",
       "      <td>50.00</td>\n",
       "      <td>49.767758</td>\n",
       "      <td>30141.0</td>\n",
       "      <td>55.0</td>\n",
       "      <td>1500050.0</td>\n",
       "      <td>29000.0</td>\n",
       "      <td>96.21</td>\n",
       "      <td>14.00</td>\n",
       "      <td>14.00</td>\n",
       "    </tr>\n",
       "  </tbody>\n",
       "</table>\n",
       "<p>1660 rows × 12 columns</p>\n",
       "</div>"
      ],
      "text/plain": [
       "             Open   High    Low  Close        WAP  No. of Shares  \\\n",
       "Date                                                               \n",
       "2017-02-06   0.79   0.79   0.76   0.76   0.790000         7430.0   \n",
       "2017-02-03   0.79   0.79   0.79   0.79   0.790000          310.0   \n",
       "2017-02-02   0.83   0.83   0.83   0.83   0.830000           75.0   \n",
       "2017-01-31   0.87   0.87   0.87   0.87   0.870000         1050.0   \n",
       "2017-01-25   0.91   0.91   0.91   0.91   0.910000          400.0   \n",
       "...           ...    ...    ...    ...        ...            ...   \n",
       "2009-12-07  65.55  71.00  57.60  65.25  64.071524        42741.0   \n",
       "2009-12-04  84.95  84.95  66.30  71.95  73.919145       133820.0   \n",
       "2009-12-03  72.00  72.00  65.20  70.80  71.469977        84551.0   \n",
       "2009-12-02  60.00  60.00  60.00  60.00  60.000000          250.0   \n",
       "2009-12-01  36.00  50.00  36.00  50.00  49.767758        30141.0   \n",
       "\n",
       "            No. of Trades  Total Turnover  Deliverable Quantity  \\\n",
       "Date                                                              \n",
       "2017-02-06            7.0          5848.0                7430.0   \n",
       "2017-02-03            4.0           244.0                 310.0   \n",
       "2017-02-02            1.0            62.0                  75.0   \n",
       "2017-01-31            2.0           913.0                1050.0   \n",
       "2017-01-25            1.0           364.0                 400.0   \n",
       "...                   ...             ...                   ...   \n",
       "2009-12-07          286.0       2738481.0               14444.0   \n",
       "2009-12-04          430.0       9891860.0               82395.0   \n",
       "2009-12-03          368.0       6042858.0               61676.0   \n",
       "2009-12-02            3.0         15000.0                 250.0   \n",
       "2009-12-01           55.0       1500050.0               29000.0   \n",
       "\n",
       "            % Deli. Qty to Traded Qty  Spread H-L  Spread C-O  \n",
       "Date                                                           \n",
       "2017-02-06                     100.00        0.03       -0.03  \n",
       "2017-02-03                     100.00        0.00        0.00  \n",
       "2017-02-02                     100.00        0.00        0.00  \n",
       "2017-01-31                     100.00        0.00        0.00  \n",
       "2017-01-25                     100.00        0.00        0.00  \n",
       "...                               ...         ...         ...  \n",
       "2009-12-07                      33.79       13.40       -0.30  \n",
       "2009-12-04                      61.57       18.65      -13.00  \n",
       "2009-12-03                      72.95        6.80       -1.20  \n",
       "2009-12-02                     100.00        0.00        0.00  \n",
       "2009-12-01                      96.21       14.00       14.00  \n",
       "\n",
       "[1660 rows x 12 columns]"
      ]
     },
     "execution_count": 3,
     "metadata": {},
     "output_type": "execute_result"
    }
   ],
   "source": [
    "dataset"
   ]
  },
  {
   "cell_type": "code",
   "execution_count": 4,
   "id": "9048029b-8604-44a9-8960-1a021e170eee",
   "metadata": {},
   "outputs": [
    {
     "name": "stdout",
     "output_type": "stream",
     "text": [
      "<class 'pandas.core.frame.DataFrame'>\n",
      "DatetimeIndex: 1660 entries, 2017-02-06 to 2009-12-01\n",
      "Data columns (total 12 columns):\n",
      " #   Column                     Non-Null Count  Dtype  \n",
      "---  ------                     --------------  -----  \n",
      " 0   Open                       1660 non-null   float64\n",
      " 1   High                       1660 non-null   float64\n",
      " 2   Low                        1660 non-null   float64\n",
      " 3   Close                      1660 non-null   float64\n",
      " 4   WAP                        1660 non-null   float64\n",
      " 5   No. of Shares              1660 non-null   float64\n",
      " 6   No. of Trades              1660 non-null   float64\n",
      " 7   Total Turnover             1660 non-null   float64\n",
      " 8   Deliverable Quantity       1660 non-null   float64\n",
      " 9   % Deli. Qty to Traded Qty  1660 non-null   float64\n",
      " 10  Spread H-L                 1660 non-null   float64\n",
      " 11  Spread C-O                 1660 non-null   float64\n",
      "dtypes: float64(12)\n",
      "memory usage: 168.6 KB\n"
     ]
    }
   ],
   "source": [
    "dataset.info()"
   ]
  },
  {
   "cell_type": "code",
   "execution_count": 5,
   "id": "e791e93a-e262-4811-8186-df12631e5e72",
   "metadata": {},
   "outputs": [],
   "source": [
    "stkdata=dataset[['Open','High','Low','Close']]"
   ]
  },
  {
   "cell_type": "code",
   "execution_count": 6,
   "id": "1414ae6e-533a-48a2-a97b-98e66b1e28dc",
   "metadata": {},
   "outputs": [
    {
     "data": {
      "text/html": [
       "<div>\n",
       "<style scoped>\n",
       "    .dataframe tbody tr th:only-of-type {\n",
       "        vertical-align: middle;\n",
       "    }\n",
       "\n",
       "    .dataframe tbody tr th {\n",
       "        vertical-align: top;\n",
       "    }\n",
       "\n",
       "    .dataframe thead th {\n",
       "        text-align: right;\n",
       "    }\n",
       "</style>\n",
       "<table border=\"1\" class=\"dataframe\">\n",
       "  <thead>\n",
       "    <tr style=\"text-align: right;\">\n",
       "      <th></th>\n",
       "      <th>Open</th>\n",
       "      <th>High</th>\n",
       "      <th>Low</th>\n",
       "      <th>Close</th>\n",
       "    </tr>\n",
       "    <tr>\n",
       "      <th>Date</th>\n",
       "      <th></th>\n",
       "      <th></th>\n",
       "      <th></th>\n",
       "      <th></th>\n",
       "    </tr>\n",
       "  </thead>\n",
       "  <tbody>\n",
       "    <tr>\n",
       "      <th>2017-02-06</th>\n",
       "      <td>0.79</td>\n",
       "      <td>0.79</td>\n",
       "      <td>0.76</td>\n",
       "      <td>0.76</td>\n",
       "    </tr>\n",
       "    <tr>\n",
       "      <th>2017-02-03</th>\n",
       "      <td>0.79</td>\n",
       "      <td>0.79</td>\n",
       "      <td>0.79</td>\n",
       "      <td>0.79</td>\n",
       "    </tr>\n",
       "    <tr>\n",
       "      <th>2017-02-02</th>\n",
       "      <td>0.83</td>\n",
       "      <td>0.83</td>\n",
       "      <td>0.83</td>\n",
       "      <td>0.83</td>\n",
       "    </tr>\n",
       "    <tr>\n",
       "      <th>2017-01-31</th>\n",
       "      <td>0.87</td>\n",
       "      <td>0.87</td>\n",
       "      <td>0.87</td>\n",
       "      <td>0.87</td>\n",
       "    </tr>\n",
       "    <tr>\n",
       "      <th>2017-01-25</th>\n",
       "      <td>0.91</td>\n",
       "      <td>0.91</td>\n",
       "      <td>0.91</td>\n",
       "      <td>0.91</td>\n",
       "    </tr>\n",
       "    <tr>\n",
       "      <th>...</th>\n",
       "      <td>...</td>\n",
       "      <td>...</td>\n",
       "      <td>...</td>\n",
       "      <td>...</td>\n",
       "    </tr>\n",
       "    <tr>\n",
       "      <th>2009-12-07</th>\n",
       "      <td>65.55</td>\n",
       "      <td>71.00</td>\n",
       "      <td>57.60</td>\n",
       "      <td>65.25</td>\n",
       "    </tr>\n",
       "    <tr>\n",
       "      <th>2009-12-04</th>\n",
       "      <td>84.95</td>\n",
       "      <td>84.95</td>\n",
       "      <td>66.30</td>\n",
       "      <td>71.95</td>\n",
       "    </tr>\n",
       "    <tr>\n",
       "      <th>2009-12-03</th>\n",
       "      <td>72.00</td>\n",
       "      <td>72.00</td>\n",
       "      <td>65.20</td>\n",
       "      <td>70.80</td>\n",
       "    </tr>\n",
       "    <tr>\n",
       "      <th>2009-12-02</th>\n",
       "      <td>60.00</td>\n",
       "      <td>60.00</td>\n",
       "      <td>60.00</td>\n",
       "      <td>60.00</td>\n",
       "    </tr>\n",
       "    <tr>\n",
       "      <th>2009-12-01</th>\n",
       "      <td>36.00</td>\n",
       "      <td>50.00</td>\n",
       "      <td>36.00</td>\n",
       "      <td>50.00</td>\n",
       "    </tr>\n",
       "  </tbody>\n",
       "</table>\n",
       "<p>1660 rows × 4 columns</p>\n",
       "</div>"
      ],
      "text/plain": [
       "             Open   High    Low  Close\n",
       "Date                                  \n",
       "2017-02-06   0.79   0.79   0.76   0.76\n",
       "2017-02-03   0.79   0.79   0.79   0.79\n",
       "2017-02-02   0.83   0.83   0.83   0.83\n",
       "2017-01-31   0.87   0.87   0.87   0.87\n",
       "2017-01-25   0.91   0.91   0.91   0.91\n",
       "...           ...    ...    ...    ...\n",
       "2009-12-07  65.55  71.00  57.60  65.25\n",
       "2009-12-04  84.95  84.95  66.30  71.95\n",
       "2009-12-03  72.00  72.00  65.20  70.80\n",
       "2009-12-02  60.00  60.00  60.00  60.00\n",
       "2009-12-01  36.00  50.00  36.00  50.00\n",
       "\n",
       "[1660 rows x 4 columns]"
      ]
     },
     "execution_count": 6,
     "metadata": {},
     "output_type": "execute_result"
    }
   ],
   "source": [
    "stkdata"
   ]
  },
  {
   "cell_type": "markdown",
   "id": "85eff07c-e21b-4057-a36d-aa1175ba02dd",
   "metadata": {},
   "source": [
    "# Data Preprocessing"
   ]
  },
  {
   "cell_type": "code",
   "execution_count": 7,
   "id": "d5af4ec0-f74e-4158-b113-077a794702bf",
   "metadata": {},
   "outputs": [
    {
     "name": "stdout",
     "output_type": "stream",
     "text": [
      "Length :  (1660, 1)\n"
     ]
    }
   ],
   "source": [
    "column='High'\n",
    "\n",
    "ms=MinMaxScaler()\n",
    "data1=ms.fit_transform(stkdata[[column]])\n",
    "print(\"Length : \",data1.shape)"
   ]
  },
  {
   "cell_type": "markdown",
   "id": "a370948d-c7bb-4d31-a371-be58f6519ae7",
   "metadata": {},
   "source": [
    "# Train&Test Set Split"
   ]
  },
  {
   "cell_type": "code",
   "execution_count": 8,
   "id": "4dc83187-ebdf-4355-ac87-40af3dad1add",
   "metadata": {},
   "outputs": [
    {
     "name": "stdout",
     "output_type": "stream",
     "text": [
      "Training Size :  1328\n",
      "x_train length :  (1328, 1)\n",
      "x_test length :  (332, 1)\n",
      "y_train length :  (1328, 1)\n",
      "y_test length :  (332, 1)\n"
     ]
    }
   ],
   "source": [
    "training_size=round(len(data1)*0.80)\n",
    "print(\"Training Size : \",training_size)\n",
    "x_train=data1[:training_size]\n",
    "x_test=data1[training_size:]\n",
    "print(\"x_train length : \", x_train.shape)\n",
    "print(\"x_test length : \" , x_test.shape)\n",
    "y_train=data1[:training_size]\n",
    "y_test=data1[training_size:]\n",
    "print(\"y_train length : \", y_train.shape)\n",
    "print(\"y_test length : \" , y_test.shape)"
   ]
  },
  {
   "cell_type": "markdown",
   "id": "6ae0761e-f50b-4a7e-a0c5-a23b1acdbbf8",
   "metadata": {},
   "source": [
    "# Model Creation and Validation"
   ]
  },
  {
   "cell_type": "code",
   "execution_count": 9,
   "id": "290389ba-a62e-4aa6-b49e-0cc6c822225d",
   "metadata": {},
   "outputs": [
    {
     "name": "stdout",
     "output_type": "stream",
     "text": [
      "Order : (1, 1, 1)  \n",
      "RMSE-Testset: 0.4035149621714389\n",
      "maPe-Testset: 0.6244721528884662\n",
      "_______________________________________\n"
     ]
    },
    {
     "name": "stderr",
     "output_type": "stream",
     "text": [
      "C:\\Users\\ELCOT\\anaconda3\\envs\\aidata\\Lib\\site-packages\\sklearn\\metrics\\_regression.py:483: FutureWarning: 'squared' is deprecated in version 1.4 and will be removed in 1.6. To calculate the root mean squared error, use the function'root_mean_squared_error'.\n",
      "  warnings.warn(\n"
     ]
    },
    {
     "name": "stdout",
     "output_type": "stream",
     "text": [
      "Order : (1, 1, 2)  \n",
      "RMSE-Testset: 0.4048592675571597\n",
      "maPe-Testset: 0.6278573827838516\n",
      "_______________________________________\n"
     ]
    },
    {
     "name": "stderr",
     "output_type": "stream",
     "text": [
      "C:\\Users\\ELCOT\\anaconda3\\envs\\aidata\\Lib\\site-packages\\sklearn\\metrics\\_regression.py:483: FutureWarning: 'squared' is deprecated in version 1.4 and will be removed in 1.6. To calculate the root mean squared error, use the function'root_mean_squared_error'.\n",
      "  warnings.warn(\n"
     ]
    },
    {
     "name": "stdout",
     "output_type": "stream",
     "text": [
      "Order : (2, 2, 1)  \n",
      "RMSE-Testset: 0.21756852253728529\n",
      "maPe-Testset: 0.23892868953237367\n",
      "_______________________________________\n"
     ]
    },
    {
     "name": "stderr",
     "output_type": "stream",
     "text": [
      "C:\\Users\\ELCOT\\anaconda3\\envs\\aidata\\Lib\\site-packages\\sklearn\\metrics\\_regression.py:483: FutureWarning: 'squared' is deprecated in version 1.4 and will be removed in 1.6. To calculate the root mean squared error, use the function'root_mean_squared_error'.\n",
      "  warnings.warn(\n",
      "C:\\Users\\ELCOT\\anaconda3\\envs\\aidata\\Lib\\site-packages\\statsmodels\\tsa\\statespace\\sarimax.py:966: UserWarning: Non-stationary starting autoregressive parameters found. Using zeros as starting parameters.\n",
      "  warn('Non-stationary starting autoregressive parameters'\n",
      "C:\\Users\\ELCOT\\anaconda3\\envs\\aidata\\Lib\\site-packages\\statsmodels\\tsa\\statespace\\sarimax.py:978: UserWarning: Non-invertible starting MA parameters found. Using zeros as starting parameters.\n",
      "  warn('Non-invertible starting MA parameters found.'\n"
     ]
    },
    {
     "name": "stdout",
     "output_type": "stream",
     "text": [
      "Order : (2, 1, 1)  \n",
      "RMSE-Testset: 0.4038345825006213\n",
      "maPe-Testset: 0.6252946152191684\n",
      "_______________________________________\n"
     ]
    },
    {
     "name": "stderr",
     "output_type": "stream",
     "text": [
      "C:\\Users\\ELCOT\\anaconda3\\envs\\aidata\\Lib\\site-packages\\sklearn\\metrics\\_regression.py:483: FutureWarning: 'squared' is deprecated in version 1.4 and will be removed in 1.6. To calculate the root mean squared error, use the function'root_mean_squared_error'.\n",
      "  warnings.warn(\n"
     ]
    }
   ],
   "source": [
    "\n",
    "#trends=['n','t','c','ct']\n",
    "orders=[(1,1,1),(1,1,2),(2,2,1),(2,1,1)]\n",
    "for od in orders:\n",
    "    model=ARIMA(x_train,order=od)\n",
    "    model_fit=model.fit()\n",
    "    # making prediction\n",
    "    y_pred=model_fit.predict(len(x_train),len(data1)-1)\n",
    "    from stockFunctions import rmsemape\n",
    "    print(\"Order : {}  \". format(od))\n",
    "    rmsemape(y_test,y_pred)\n",
    "    print(\"_______________________________________\")"
   ]
  },
  {
   "cell_type": "code",
   "execution_count": 10,
   "id": "acb9afdd-f080-45b3-87ea-91dd616f8f5a",
   "metadata": {},
   "outputs": [
    {
     "name": "stdout",
     "output_type": "stream",
     "text": [
      "Order : (2, 1, 1)  \n",
      "RMSE-Testset: 0.21756852253728529\n",
      "maPe-Testset: 0.23892868953237367\n",
      "_______________________________________\n"
     ]
    },
    {
     "name": "stderr",
     "output_type": "stream",
     "text": [
      "C:\\Users\\ELCOT\\anaconda3\\envs\\aidata\\Lib\\site-packages\\sklearn\\metrics\\_regression.py:483: FutureWarning: 'squared' is deprecated in version 1.4 and will be removed in 1.6. To calculate the root mean squared error, use the function'root_mean_squared_error'.\n",
      "  warnings.warn(\n"
     ]
    }
   ],
   "source": [
    "model=ARIMA(x_train,order=(2,2,1))\n",
    "model_fit=model.fit()\n",
    "# making prediction\n",
    "y_pred=model_fit.predict(len(x_train),len(data1)-1)\n",
    "from stockFunctions import rmsemape\n",
    "print(\"Order : {}  \". format(od))\n",
    "rmsemape(y_test,y_pred)\n",
    "print(\"_______________________________________\")"
   ]
  },
  {
   "cell_type": "code",
   "execution_count": 11,
   "id": "9ba7ba6c-9248-4b26-81d4-1a3177fc2adc",
   "metadata": {},
   "outputs": [
    {
     "data": {
      "image/png": "[encoded data removed]",
      "text/plain": [
       "<Figure size 1000x500 with 1 Axes>"
      ]
     },
     "metadata": {},
     "output_type": "display_data"
    }
   ],
   "source": [
    "from stockFunctions import graph\n",
    "graph(y_test,y_pred,\"Actual\",\"Predicted\",\"Gold Price\",\"Days\",\"Prices\")"
   ]
  },
  {
   "cell_type": "code",
   "execution_count": 12,
   "id": "34154452-8ea4-4d25-a62b-0d1e189ca112",
   "metadata": {},
   "outputs": [],
   "source": [
    "from stockFunctions import conversionSingle\n",
    "aTestNormTable=conversionSingle(y_test,[column])\n",
    "actual_stock_price_test_ori=ms.inverse_transform(aTestNormTable)\n",
    "actual_stock_price_test_oriA=conversionSingle(actual_stock_price_test_ori,[column])"
   ]
  },
  {
   "cell_type": "code",
   "execution_count": 13,
   "id": "67bb0234-96fb-4896-8af4-644eeb03c69e",
   "metadata": {},
   "outputs": [],
   "source": [
    "from stockFunctions import conversionSingle\n",
    "pTestNormTable=conversionSingle(y_pred,[column])\n",
    "predicted_stock_price_test_ori=ms.inverse_transform(pTestNormTable)\n",
    "predicted_stock_price_test_oriP=conversionSingle(predicted_stock_price_test_ori,[column])"
   ]
  },
  {
   "cell_type": "code",
   "execution_count": 14,
   "id": "72af031a-e2c2-4ff6-b87f-8fe92e1edd4d",
   "metadata": {},
   "outputs": [
    {
     "data": {
      "image/png": "[encoded data removed]",
      "text/plain": [
       "<Figure size 1000x500 with 1 Axes>"
      ]
     },
     "metadata": {},
     "output_type": "display_data"
    }
   ],
   "source": [
    "from stockFunctions import graph\n",
    "graph(actual_stock_price_test_oriA,predicted_stock_price_test_oriP,\"Actual\",\"Predicted\",\"Gold Price\",\"Days\",\"Prices\")"
   ]
  },
  {
   "cell_type": "code",
   "execution_count": 15,
   "id": "c45064ee-71b2-4a69-88bd-f9aa5bc0764e",
   "metadata": {},
   "outputs": [
    {
     "name": "stdout",
     "output_type": "stream",
     "text": [
      "RMSE-Testset: 18.369310357822997\n",
      "maPe-Testset: 0.23623892311516806\n"
     ]
    },
    {
     "name": "stderr",
     "output_type": "stream",
     "text": [
      "C:\\Users\\ELCOT\\anaconda3\\envs\\aidata\\Lib\\site-packages\\sklearn\\metrics\\_regression.py:483: FutureWarning: 'squared' is deprecated in version 1.4 and will be removed in 1.6. To calculate the root mean squared error, use the function'root_mean_squared_error'.\n",
      "  warnings.warn(\n"
     ]
    }
   ],
   "source": [
    "from stockFunctions import rmsemape\n",
    "rmsemape(actual_stock_price_test_oriA,predicted_stock_price_test_oriP)"
   ]
  },
  {
   "cell_type": "code",
   "execution_count": 16,
   "id": "a9ff87d4-be19-46f9-a33d-7f52d7dd3266",
   "metadata": {},
   "outputs": [
    {
     "data": {
      "text/plain": [
       "array([0.58145145, 0.58273175, 0.58401206, 0.58529236])"
      ]
     },
     "execution_count": 16,
     "metadata": {},
     "output_type": "execute_result"
    }
   ],
   "source": [
    "forecast=model_fit.predict(len(data1), len(data1)+3)\n",
    "forecast"
   ]
  },
  {
   "cell_type": "code",
   "execution_count": 17,
   "id": "7bd77ca8-38a0-4597-b843-4bbf185d3981",
   "metadata": {},
   "outputs": [],
   "source": [
    "from stockFunctions import conversionSingle\n",
    "fTestNormTable=conversionSingle(forecast,[\"HighFore\"])\n",
    "forecast_stock_price_test_ori=ms.inverse_transform(fTestNormTable)\n",
    "forecast_stock_price_test_orif=conversionSingle(forecast_stock_price_test_ori,[\"HighFore\"])"
   ]
  },
  {
   "cell_type": "code",
   "execution_count": 18,
   "id": "404cd68f-8bc7-42da-b199-bde7263d0141",
   "metadata": {},
   "outputs": [
    {
     "data": {
      "text/html": [
       "<div>\n",
       "<style scoped>\n",
       "    .dataframe tbody tr th:only-of-type {\n",
       "        vertical-align: middle;\n",
       "    }\n",
       "\n",
       "    .dataframe tbody tr th {\n",
       "        vertical-align: top;\n",
       "    }\n",
       "\n",
       "    .dataframe thead th {\n",
       "        text-align: right;\n",
       "    }\n",
       "</style>\n",
       "<table border=\"1\" class=\"dataframe\">\n",
       "  <thead>\n",
       "    <tr style=\"text-align: right;\">\n",
       "      <th></th>\n",
       "      <th>HighFore</th>\n",
       "    </tr>\n",
       "  </thead>\n",
       "  <tbody>\n",
       "    <tr>\n",
       "      <th>0</th>\n",
       "      <td>49.611946</td>\n",
       "    </tr>\n",
       "    <tr>\n",
       "      <th>1</th>\n",
       "      <td>49.720042</td>\n",
       "    </tr>\n",
       "    <tr>\n",
       "      <th>2</th>\n",
       "      <td>49.828138</td>\n",
       "    </tr>\n",
       "    <tr>\n",
       "      <th>3</th>\n",
       "      <td>49.936234</td>\n",
       "    </tr>\n",
       "  </tbody>\n",
       "</table>\n",
       "</div>"
      ],
      "text/plain": [
       "    HighFore\n",
       "0  49.611946\n",
       "1  49.720042\n",
       "2  49.828138\n",
       "3  49.936234"
      ]
     },
     "execution_count": 18,
     "metadata": {},
     "output_type": "execute_result"
    }
   ],
   "source": [
    "forecast_stock_price_test_orif"
   ]
  },
  {
   "cell_type": "code",
   "execution_count": 19,
   "id": "8a9c302b-ef77-4fbe-8dbf-633db03a9963",
   "metadata": {},
   "outputs": [
    {
     "data": {
      "text/plain": [
       "[<matplotlib.lines.Line2D at 0x25c450b1e10>]"
      ]
     },
     "execution_count": 19,
     "metadata": {},
     "output_type": "execute_result"
    },
    {
     "data": {
      "image/png": "[encoded data removed]",
      "text/plain": [
       "<Figure size 1000x500 with 1 Axes>"
      ]
     },
     "metadata": {},
     "output_type": "display_data"
    }
   ],
   "source": [
    "\n",
    "plt.figure(figsize=(10,5))\n",
    "plt.plot(actual_stock_price_test_oriA[50:99], color = 'blue', label=\"Actual\")\n",
    "plt.plot(forecast_stock_price_test_orif, color = 'red', label =\"Predicted\")"
   ]
  },
  {
   "cell_type": "code",
   "execution_count": null,
   "id": "3d0b200b-97c0-4047-8c1f-114994b2bdca",
   "metadata": {},
   "outputs": [],
   "source": []
  },
  {
   "cell_type": "code",
   "execution_count": null,
   "id": "936cb4b5-eabe-48f4-8b79-83773d7d4437",
   "metadata": {},
   "outputs": [],
   "source": []
  }
 ],
 "metadata": {
  "kernelspec": {
   "display_name": "Python 3 (ipykernel)",
   "language": "python",
   "name": "python3"
  },
  "language_info": {
   "codemirror_mode": {
    "name": "ipython",
    "version": 3
   },
   "file_extension": ".py",
   "mimetype": "text/x-python",
   "name": "python",
   "nbconvert_exporter": "python",
   "pygments_lexer": "ipython3",
   "version": "3.11.2"
  }
 },
 "nbformat": 4,
 "nbformat_minor": 5
}
